{
 "cells": [
  {
   "cell_type": "markdown",
   "id": "061a92ca-8dcf-48c2-b9a3-414791aa87e6",
   "metadata": {},
   "source": [
    "# Polars, Arrow and Spark\n",
    "\n",
    "## Accelerating analytics with BlocPower's massive dataset\n",
    "\n",
    "---\n",
    "\n",
    "Dataset - \n",
    "\n",
    "This notebook explores methods to speed up and optimize working with large dataframes in Python. Because of compute and storage limitations, we desperately need ways to\n",
    "- make operations faster\n",
    "\n",
    "- consume less memory and/or handle data larger than memory\n",
    "\n",
    "There are three methods tried here:\n",
    "\n",
    "- Pandas: Regular workflow\n",
    "\n",
    "- Dask: Flexible library for parallel computing in Python.\n",
    "\n",
    "- Polars: Pandas alternative using Apache Arrow columnar memory written in Rust\n",
    "\n",
    "The first step is common for all three methods - **define a query in SQL in the python notebook** to refer to our chosen data. This marks a distinct change in our usual approach, where we pre-add a dataset in the project or thru the visual GUI, transform/filter and then import it into the notebook\n",
    "\n",
    "\n",
    "## Results:\n",
    "\n",
    "For the limited use case we loop thru a list of state code (here NY and RI), read in the data, count the number of missing values in each variable, append the dataframes together and perform a simple groupby to calculate the mean Energy Use Intensity in a county.\n",
    "\n",
    "The time and memory taken by each library is given.\n",
    "\n",
    "- **Library |  Time   | Memory**\n",
    "\n",
    "- Pandas  | 36.06s  | 3000 MB\n",
    "\n",
    "- Dask    | 75.33s  | 64 BYTES\n",
    "\n",
    "- Pandas  | 38.66s  | 48 BYTES\n",
    "\n",
    "\n",
    "As datasets get larger, the difference grows and Pandas performs much worse.\n"
   ]
  },
  {
   "cell_type": "code",
   "execution_count": 3,
   "id": "ff8f7cf5-3405-499f-ba40-24de1822e281",
   "metadata": {
    "tags": []
   },
   "outputs": [],
   "source": [
    "%%capture\n",
    "\n",
    "# Setup - Run only once per Kernel App\n",
    "%conda install openjdk -y\n",
    "\n",
    "# install PySpark\n",
    "%pip install pyspark==3.2.0 redivis polars \n"
   ]
  },
  {
   "cell_type": "code",
   "execution_count": 7,
   "id": "d5b7a220",
   "metadata": {},
   "outputs": [],
   "source": [
    "# Full documentation available at:\n",
    "# https://apidocs.redivis.com/client-libraries/redivis-python\n",
    "\n",
    "import redivis\n",
    "import numpy as np\n",
    "import pandas as pd\n",
    "#import polars as pl\n",
    "import sys as sys\n",
    "# import dask.dataframe as dd\n",
    "# import dask.bag as db\n",
    "# from dask.delayed import delayed\n",
    "import time as time\n",
    "# import dask.array as da\n",
    "\n",
    "import os\n",
    "# !conda install -y polars\n",
    "import polars as pl\n"
   ]
  },
  {
   "cell_type": "markdown",
   "id": "d4eefb5e",
   "metadata": {},
   "source": [
    "### Insert your Redivis API Key"
   ]
  },
  {
   "cell_type": "code",
   "execution_count": 8,
   "id": "f8149f2f-8858-4ef0-99c4-7141d97d2c7f",
   "metadata": {
    "tags": []
   },
   "outputs": [],
   "source": [
    "\n",
    "#give API key\n",
    "os.environ['REDIVIS_API_TOKEN'] = 'token'\n",
    "\n",
    "\n",
    "# #declare organization\n",
    "# organization = redivis.organization(\"EIDC\")\n",
    "\n",
    "\n",
    "# # select dataset\n",
    "\n",
    "# dataset = organization.dataset(\"spatial01\")"
   ]
  },
  {
   "cell_type": "markdown",
   "id": "b711dda3-c8e5-43c5-8b16-cbd23e545e67",
   "metadata": {},
   "source": [
    "## Pandas (+ PyArrow Backend)"
   ]
  },
  {
   "cell_type": "code",
   "execution_count": 17,
   "id": "1621bb6b-bdae-4ba5-9ccd-7d3f754beadd",
   "metadata": {},
   "outputs": [
    {
     "data": {
      "application/vnd.jupyter.widget-view+json": {
       "model_id": "",
       "version_major": 2,
       "version_minor": 0
      },
      "text/plain": [
       "  0%|          | 0/4875116 [00:00<?, ?it/s]"
      ]
     },
     "metadata": {},
     "output_type": "display_data"
    },
    {
     "name": "stdout",
     "output_type": "stream",
     "text": [
      "Memory consumed by Pandas DF for NY: 2966.39 MB\n",
      "######################################\n",
      "Missing addresses for NY\n",
      "-------------------------------------\n",
      "851884\n"
     ]
    },
    {
     "data": {
      "application/vnd.jupyter.widget-view+json": {
       "model_id": "",
       "version_major": 2,
       "version_minor": 0
      },
      "text/plain": [
       "  0%|          | 0/356365 [00:00<?, ?it/s]"
      ]
     },
     "metadata": {},
     "output_type": "display_data"
    },
    {
     "name": "stdout",
     "output_type": "stream",
     "text": [
      "Memory consumed by Pandas DF for RI: 230.18 MB\n",
      "######################################\n",
      "Missing addresses for RI\n",
      "-------------------------------------\n",
      "18105\n"
     ]
    },
    {
     "data": {
      "application/vnd.jupyter.widget-view+json": {
       "model_id": "",
       "version_major": 2,
       "version_minor": 0
      },
      "text/plain": [
       "  0%|          | 0/546816 [00:00<?, ?it/s]"
      ]
     },
     "metadata": {},
     "output_type": "display_data"
    },
    {
     "name": "stdout",
     "output_type": "stream",
     "text": [
      "Memory consumed by Pandas DF for AZ: 299.14 MB\n",
      "######################################\n",
      "Missing addresses for AZ\n",
      "-------------------------------------\n",
      "165129\n",
      "time pandas - 44.24361228942871\n"
     ]
    }
   ],
   "source": [
    "st2=time.time()\n",
    "\n",
    "# list of states\n",
    "states = ['NY', 'RI', 'AZ']\n",
    "\n",
    "dfs = []\n",
    "for state in states:\n",
    "    query = redivis.query(f\"\"\"\n",
    "        SELECT * \n",
    "        FROM EIDC.blocpower_active.blocpower_core\n",
    "        WHERE state = '{state}'\n",
    "        \"\"\")\n",
    "    # df = query.to_dataframe()   # 40 seconds\n",
    "    df = query.to_pandas_dataframe(dtype_backend=\"numpy\")\n",
    "    size_in_mb = sys.getsizeof(df)/ (1024**2)\n",
    "    print(\"######################################\")\n",
    "\n",
    "    print(f\"Memory consumed by Pandas DF for {state}: {size_in_mb:.2f} MB\")\n",
    "    \n",
    "    missing_values_count = df.address.isna().sum()\n",
    "    \n",
    "    print(f\"Missing addresses for {state}:\", missing_values_count )\n",
    "    print(\"-------------------------------------\")\n",
    "    dfs.append(df)\n",
    "    \n",
    "pandas_df = pd.concat(dfs, ignore_index=True)\n",
    "\n",
    "dfcounty = pandas_df.groupby('county').total_source_energy_GJ.mean()\n",
    "\n",
    "et2=time.time()\n",
    "\n",
    "dur2 = et2-st2\n",
    "\n",
    "print(\"time pandas -\", dur2)"
   ]
  },
  {
   "cell_type": "markdown",
   "id": "ea109870-5d4e-4f9f-a768-cf1c434496ad",
   "metadata": {},
   "source": [
    "# Polars"
   ]
  },
  {
   "cell_type": "code",
   "execution_count": 22,
   "id": "682158d0-f868-4639-b328-3263b1efcc2a",
   "metadata": {},
   "outputs": [
    {
     "data": {
      "application/vnd.jupyter.widget-view+json": {
       "model_id": "",
       "version_major": 2,
       "version_minor": 0
      },
      "text/plain": [
       "  0%|          | 0/4875116 [00:00<?, ?it/s]"
      ]
     },
     "metadata": {},
     "output_type": "display_data"
    },
    {
     "name": "stdout",
     "output_type": "stream",
     "text": [
      "Memory consumed by Polars DF for NY: 40.00 BYTES \n"
     ]
    },
    {
     "data": {
      "application/vnd.jupyter.widget-view+json": {
       "model_id": "",
       "version_major": 2,
       "version_minor": 0
      },
      "text/plain": [
       "  0%|          | 0/356365 [00:00<?, ?it/s]"
      ]
     },
     "metadata": {},
     "output_type": "display_data"
    },
    {
     "name": "stdout",
     "output_type": "stream",
     "text": [
      "Memory consumed by Polars DF for RI: 40.00 BYTES \n"
     ]
    },
    {
     "data": {
      "application/vnd.jupyter.widget-view+json": {
       "model_id": "",
       "version_major": 2,
       "version_minor": 0
      },
      "text/plain": [
       "  0%|          | 0/546816 [00:00<?, ?it/s]"
      ]
     },
     "metadata": {},
     "output_type": "display_data"
    },
    {
     "name": "stdout",
     "output_type": "stream",
     "text": [
      "Memory consumed by Polars DF for AZ: 40.00 BYTES \n"
     ]
    },
    {
     "name": "stderr",
     "output_type": "stream",
     "text": [
      "/tmp/ipykernel_18/2752752947.py:26: DeprecationWarning: `groupby` is deprecated. It has been renamed to `group_by`.\n",
      "  polars_df\n",
      "PARTITIONED DS\n"
     ]
    },
    {
     "name": "stdout",
     "output_type": "stream",
     "text": [
      "time polars - 25.754555702209473\n"
     ]
    }
   ],
   "source": [
    "#https://towardsdatascience.com/understanding-groupby-in-polars-dataframe-by-examples-1e910e4095b3\n",
    "\n",
    "st2=time.time()\n",
    "\n",
    "states = ['NY', 'RI', 'AZ']\n",
    "dfs = []\n",
    "for state in states:\n",
    "    query = redivis.query(f\"\"\"\n",
    "        SELECT * \n",
    "        FROM EIDC.blocpower_active.blocpower_core\n",
    "        WHERE state = '{state}'\n",
    "        \"\"\")\n",
    "    #CONVERT TO PANDAS\n",
    "    df = query.to_polars_lazyframe(progress=True)\n",
    "    \n",
    "    #GET SIZE IN MEMORY\n",
    "    print(f\"Memory consumed by Polars DF for {state}: {sys.getsizeof(df):.2f} BYTES \")\n",
    "    \n",
    "    null_count_df=df.null_count()\n",
    "    \n",
    "    dfs.append(df)\n",
    "    \n",
    "polars_df = pl.concat(dfs)\n",
    "\n",
    "q = (\n",
    "    polars_df    \n",
    "    .lazy()\n",
    "    .groupby(by='county')\n",
    "    .agg(\n",
    "        [\n",
    "            pl.col('total_source_energy_GJ').mean().alias('mean_energy'),\n",
    "            \n",
    "        ]\n",
    "    )    \n",
    ")\n",
    "\n",
    "polars_df = q.collect()\n",
    "\n",
    "# q = (\n",
    "#     polars_df.lazy()\n",
    "#     .groupby(\"county\")\n",
    "#     .agg(mean_energy=('total_source_energy_GJ', pl.mean()))\n",
    "# )\n",
    "\n",
    "et2=time.time()\n",
    "\n",
    "dur2 = et2-st2\n",
    "print(\"time polars -\", dur2)\n"
   ]
  },
  {
   "cell_type": "markdown",
   "id": "f6475577-d5ae-4562-bcb0-38a33a5a3d39",
   "metadata": {},
   "source": [
    "## Polars = 25.7 seconds\n",
    "\n",
    "## Pandas = 44.2 seconds\n",
    "\n",
    "\n",
    "---"
   ]
  },
  {
   "cell_type": "code",
   "execution_count": null,
   "id": "d9bc55b2-8cb5-4f06-b89b-51271246a17d",
   "metadata": {},
   "outputs": [],
   "source": [
    "\n",
    "states = [\"DC\", \"AL\", \"AK\", \"AZ\", \"AR\", \"CA\", \"CO\", \"CT\", \"DE\", \"FL\", \"GA\", \n",
    "    \"HI\", \"ID\", \"IL\", \"IN\", \"IA\", \"KS\", \"KY\", \"LA\", \"ME\", \"MD\", \n",
    "    \"MA\", \"MI\", \"MN\", \"MS\", \"MO\", \"MT\", \"NE\", \"NV\", \"NH\", \"NJ\", \n",
    "    \"NM\", \"NY\", \"NC\", \"ND\", \"OH\", \"OK\", \"OR\", \"PA\", \"RI\", \"SC\", \n",
    "    \"SD\", \"TN\", \"TX\", \"UT\", \"VT\", \"VA\", \"WA\", \"WV\", \"WI\", \"WY\"]"
   ]
  },
  {
   "cell_type": "markdown",
   "id": "fcb4691c-580b-459c-b9ca-5de0cc0f8ea8",
   "metadata": {},
   "source": [
    "## Download entire data to disk\n",
    "\n",
    "\n",
    "### PyArrow and Redivis\n",
    "\n",
    "Returns a representation of the query results as a PyArrow Table. Since arrow is the underlying transport format for Redivis data, loading data directly into an arrow table will always be the most performant in-memory option. "
   ]
  },
  {
   "cell_type": "code",
   "execution_count": 24,
   "id": "7aab793b-a051-4b32-8e7c-506e3c456ece",
   "metadata": {
    "tags": []
   },
   "outputs": [
    {
     "data": {
      "application/vnd.jupyter.widget-view+json": {
       "model_id": "",
       "version_major": 2,
       "version_minor": 0
      },
      "text/plain": [
       "  0%|          | 0/68496879 [00:00<?, ?it/s]"
      ]
     },
     "metadata": {},
     "output_type": "display_data"
    }
   ],
   "source": [
    "#https://towardsdatascience.com/understanding-groupby-in-polars-dataframe-by-examples-1e910e4095b3\n",
    "import pyarrow.dataset as ds\n",
    "\n",
    "st2=time.time()\n",
    "\n",
    "# Query\n",
    "query = redivis.query(f\"\"\"\n",
    "    SELECT * \n",
    "    FROM EIDC.blocpower_active.blocpower_core\n",
    "    WHERE ADDRESS IS NOT NULL\n",
    "    \"\"\")\n",
    "#CONVERT TO arrow df\n",
    "df = query.to_arrow_dataset(max_results=None, *, progress=True, batch_preprocessor=None) \n",
    "\n",
    "# #GET SIZE IN MEMORY\n",
    "print(f\"Memory consumed by Arrow DF for {state}: {sys.getsizeof(df):.2f} BYTES \")\n",
    " \n",
    "\n",
    "# Write the dataset to Parquet\n",
    "ds.write_dataset(df, 'bp_core.parquet', format=\"parquet\")\n",
    "\n"
   ]
  },
  {
   "cell_type": "markdown",
   "id": "30cb3555-fec7-41b3-82d8-af233c82ffc8",
   "metadata": {},
   "source": [
    "PyArrow doesn't have a built-in method to directly write FileSystemDataset objects in chunks to Parquet. Instead, you typically work with PyArrow Tables or RecordBatches that are part of the dataset. The idea is to iterate over partitions or batches of the dataset, writing each to Parquet files incrementally.\n",
    "\n",
    "---"
   ]
  },
  {
   "cell_type": "markdown",
   "id": "7c752c77-ff63-4c49-ba42-a2c51e5c3fc0",
   "metadata": {},
   "source": [
    "#### Add `.parquet` to .gitignore"
   ]
  },
  {
   "cell_type": "code",
   "execution_count": 39,
   "id": "a7622112-551d-409d-84e9-2bcda15dc011",
   "metadata": {
    "tags": []
   },
   "outputs": [],
   "source": [
    "!touch .gitignore\n",
    "\n",
    "!echo \".parquet\" >> .gitignore\n",
    "\n",
    "!cat .gitignore"
   ]
  },
  {
   "cell_type": "markdown",
   "id": "8d141449-2d2d-4088-899d-86b34362b23b",
   "metadata": {},
   "source": [
    "## Spark\n",
    "\n",
    "### Initialize PySpark Session + Enable PyArrow"
   ]
  },
  {
   "cell_type": "code",
   "execution_count": 28,
   "id": "c54c765c-bb3e-40a5-8951-546436ee27f8",
   "metadata": {
    "tags": []
   },
   "outputs": [
    {
     "name": "stderr",
     "output_type": "stream",
     "text": [
      "WARNING: An illegal reflective access operation has occurred\n",
      "WARNING: Illegal reflective access by org.apache.spark.unsafe.Platform (file:/opt/conda/lib/python3.10/site-packages/pyspark/jars/spark-unsafe_2.12-3.2.0.jar) to constructor java.nio.DirectByteBuffer(long,int)\n",
      "WARNING: Please consider reporting this to the maintainers of org.apache.spark.unsafe.Platform\n",
      "WARNING: Use --illegal-access=warn to enable warnings of further illegal reflective access operations\n",
      "WARNING: All illegal access operations will be denied in a future release\n",
      "Using Spark's default log4j profile: org/apache/spark/log4j-defaults.properties\n",
      "Setting default log level to \"WARN\".\n",
      "To adjust logging level use sc.setLogLevel(newLevel). For SparkR, use setLogLevel(newLevel).\n",
      "24/02/28 18:20:02 WARN NativeCodeLoader: Unable to load native-hadoop library for your platform... using builtin-java classes where applicable\n"
     ]
    }
   ],
   "source": [
    "from pyspark.sql import SparkSession\n",
    "\n",
    "spark = SparkSession.builder \\\n",
    "    .appName(\"PyArrowIntegration\") \\\n",
    "    .config(\"spark.sql.execution.arrow.pyspark.enabled\", \"true\") \\\n",
    "    .getOrCreate()\n"
   ]
  },
  {
   "cell_type": "markdown",
   "id": "63fcf5c9-1d62-427b-93c9-c4b2d7108ae6",
   "metadata": {
    "tags": []
   },
   "source": [
    "## Read .parquet into Spark Dataframe\n",
    "\n",
    "\n",
    "Two fundamental concepts in Apache Spark:\n",
    "\n",
    "- **Resilient Distributed Dataset (RDD)**:\n",
    "\n",
    "The fundamental data structure of Apache Spark. Low-level API.\n",
    "It represents an immutable, distributed collection of objects that can be processed in parallel. RDDs can store any type of data and are compiled down to a set of JVM bytecode instructions that can execute on a cluster.\n",
    "\n",
    "\n",
    "- **DataFrame**:\n",
    "\n",
    "Distributed collection of data organized into named columns, similar to a table in a relational database. It is built on top of the RDD API and provides a higher-level abstraction."
   ]
  },
  {
   "cell_type": "code",
   "execution_count": 41,
   "id": "4945e242-df98-42a0-a212-3ccb2d275559",
   "metadata": {
    "tags": []
   },
   "outputs": [
    {
     "name": "stderr",
     "output_type": "stream",
     "text": [
      "[Stage 2:>                                                          (0 + 1) / 1]\r"
     ]
    },
    {
     "name": "stdout",
     "output_type": "stream",
     "text": [
      "+-------------+-----+-----------------+---------------+-----+--------------------+----------+----------+---------------+-------------------+-------------------+-----------------+--------------------+---------------------------+--------------------+----------------------+\n",
      "|  building_id|state|           county|           city|  zip|             address|area_sq_ft|year_built|  building_type|cooling_system_type|heating_system_type|heating_fuel_type|energy_use_intensity|energy_efficiency_potential|total_site_energy_GJ|total_source_energy_GJ|\n",
      "+-------------+-----+-----------------+---------------+-----+--------------------+----------+----------+---------------+-------------------+-------------------+-----------------+--------------------+---------------------------+--------------------+----------------------+\n",
      "|1017004124081|   RI|       Washington|SOUTH KINGSTOWN|02879|11 ELWOOD CT SOUT...|      1596|      null|   SingleFamily|               NONE|          HOT WATER|              Gas|     320.85625547071|                     EE_LOW|   503.2300109863281|     1238.780029296875|\n",
      "|1015003529510|   RI|       Providence|     CUMBERLAND|02864|72 MANVILLE HILL ...|         0|      null|          Other|               NONE|               NONE|          Unknown|    387.175733619443|                       null|   1085.469970703125|    1882.8199462890625|\n",
      "|5001000156870|   VA|Newport_News_city|   NEWPORT NEWS|23608|21 MARINA DR NEWP...|      2061|      null|   SingleFamily|                 CE|              OTHER|          Unknown|    45.0678721314157|                     EE_LOW|   77.70999908447266|    215.66000366210938|\n",
      "|9021005123167|   AK|        Anchorage|      ANCHORAGE|99508|416 N BUNN ST ANC...|      1653|    1958.0|   SingleFamily|                 CE|         FORCED AIR|              Oil|    326.514828889266|                     EE_LOW|   374.1000061035156|      495.489990234375|\n",
      "|5001000104040|   VA|         New_Kent|       NEW KENT|23124|9410 NEW KENT HWY...|       576|      null|   SingleFamily|                 PA|           ELECTRIC|      Electricity|    161.228698662425|                     EE_MED|  209.83999633789062|    367.17999267578125|\n",
      "|8026006312037|   WY|            Teton|        JACKSON|83001|3510 S PARK DR JA...|         0|      null|SmallCommercial|               NONE|         FORCED AIR|              Gas|    202.435516459487|                       null|   86.04000091552734|     151.5500030517578|\n",
      "|8026006412859|   WY|          Fremont|       RIVERTON|82501|18 ROGERS LN RIVE...|      2432|      null|   SingleFamily|                 CW|         FORCED AIR|              Gas|    101.123521241323|                     EE_LOW|   63.41999816894531|     99.70999908447266|\n",
      "|4022005470662|   ND|         Burleigh|       BISMARCK|58504|6735 OMAR ST BISM...|      2602|      null|   SingleFamily|               NONE|                GAS|              Gas|    101.946988891465|                     EE_LOW|   356.6600036621094|     759.6599731445312|\n",
      "|1006001495827|   VT|          Addison|      VERGENNES|05491|24 VICTORY ST VER...|         0|      null|   SingleFamily|               null|               null|          Unknown|    95.1337879397798|                       null|   94.23999786376953|    213.74000549316406|\n",
      "|4023005605481|   ND|    Golden_Valley|          BEACH|58621|329 3RD AVE NE BE...|         0|      null|   SingleFamily|               NONE|               NONE|          Unknown|    279.734858926456|                       null|   444.3299865722656|       713.52001953125|\n",
      "|8026006397807|   WY|          Lincoln|       KEMMERER|83101|1430 COULSON AVE ...|     10692|      null|   SingleFamily|                 CW|         FORCED AIR|              Gas|    163.872594214602|                     EE_MED|   350.3500061035156|      512.530029296875|\n",
      "|1017004112299|   RI|       Washington|SOUTH KINGSTOWN|02879|3703 TOWER HILL R...|         0|      null|          Other|               NONE|               NONE|          Unknown|    592.787113457619|                       null|    740.989990234375|      1531.47998046875|\n",
      "|1017004139314|   RI|       Washington|    CHARLESTOWN|02813|151 RIDGEWOOD RD ...|      1120|      null|   SingleFamily|               NONE|          HOT WATER|              Oil|    339.027142204701|                     EE_LOW|  426.07000732421875|                746.75|\n",
      "|4022005411199|   ND|           Morton|         MANDAN|58554|405 15TH ST NW MA...|         0|      null|   SingleFamily|               NONE|               NONE|          Unknown|    320.065376477364|                       null|     670.27001953125|    1147.8499755859375|\n",
      "|9020004864479|   HI|           Hawaii|    KAILUA KONA|96740|73-1295 ONAONA DR...|      2976|      null|   SingleFamily|                 NO|               NONE|          Unknown|    169.746956951775|                     EE_MED|   302.6499938964844|     563.8900146484375|\n",
      "|8025006232585|   WY|             Park|         POWELL|82435|872 JOHNSON AVE P...|     11340|      null|   SingleFamily|               NONE|          HOT WATER|              Gas|    65.1366872968216|                     EE_LOW|   44.40999984741211|     76.19999694824219|\n",
      "|1017004112706|   RI|       Washington|    HOPE VALLEY|02832|51 FAIRVIEW AVE H...|      1102|      null|   SingleFamily|               NONE|          HOT WATER|              Oil|     538.50170571828|                     EE_MED|    6093.35009765625|      14401.5498046875|\n",
      "|1013003188005|   RI|             Kent| EAST GREENWICH|02818|77 WUNNEGIN CIR E...|       792|    1990.0|   SingleFamily|               NONE|          HOT WATER|              Oil|    327.829749610246|                     EE_LOW|   567.6500244140625|    1017.3900146484375|\n",
      "|8007001592104|   WY|          Laramie|       CHEYENNE|82009|5039 PINERIDGE AV...|     11520|      null|   SingleFamily|                 CW|         FORCED AIR|              Oil|    163.902540838439|                     EE_MED|  129.27999877929688|     199.7899932861328|\n",
      "|1017004124951|   RI|       Washington|       WESTERLY|02891|8-10 BYRON DR WES...|      1560|      null|   SingleFamily|               NONE|          BASEBOARD|              Gas|    127.141560328047|                     EE_LOW|  236.61000061035156|      545.239990234375|\n",
      "+-------------+-----+-----------------+---------------+-----+--------------------+----------+----------+---------------+-------------------+-------------------+-----------------+--------------------+---------------------------+--------------------+----------------------+\n",
      "only showing top 20 rows\n",
      "\n",
      "CPU times: user 5.87 ms, sys: 2.97 ms, total: 8.84 ms\n",
      "Wall time: 6.82 s\n"
     ]
    },
    {
     "name": "stderr",
     "output_type": "stream",
     "text": [
      "                                                                                \r"
     ]
    }
   ],
   "source": [
    "%%time\n",
    "\n",
    "sdf = spark.read.parquet(\"bp_core.parquet\",\n",
    "    header=True\n",
    ")\n",
    "sdf.show()"
   ]
  }
 ],
 "metadata": {
  "availableInstances": [
   {
    "_defaultOrder": 0,
    "_isFastLaunch": true,
    "category": "General purpose",
    "gpuNum": 0,
    "hideHardwareSpecs": false,
    "memoryGiB": 4,
    "name": "ml.t3.medium",
    "vcpuNum": 2
   },
   {
    "_defaultOrder": 1,
    "_isFastLaunch": false,
    "category": "General purpose",
    "gpuNum": 0,
    "hideHardwareSpecs": false,
    "memoryGiB": 8,
    "name": "ml.t3.large",
    "vcpuNum": 2
   },
   {
    "_defaultOrder": 2,
    "_isFastLaunch": false,
    "category": "General purpose",
    "gpuNum": 0,
    "hideHardwareSpecs": false,
    "memoryGiB": 16,
    "name": "ml.t3.xlarge",
    "vcpuNum": 4
   },
   {
    "_defaultOrder": 3,
    "_isFastLaunch": false,
    "category": "General purpose",
    "gpuNum": 0,
    "hideHardwareSpecs": false,
    "memoryGiB": 32,
    "name": "ml.t3.2xlarge",
    "vcpuNum": 8
   },
   {
    "_defaultOrder": 4,
    "_isFastLaunch": true,
    "category": "General purpose",
    "gpuNum": 0,
    "hideHardwareSpecs": false,
    "memoryGiB": 8,
    "name": "ml.m5.large",
    "vcpuNum": 2
   },
   {
    "_defaultOrder": 5,
    "_isFastLaunch": false,
    "category": "General purpose",
    "gpuNum": 0,
    "hideHardwareSpecs": false,
    "memoryGiB": 16,
    "name": "ml.m5.xlarge",
    "vcpuNum": 4
   },
   {
    "_defaultOrder": 6,
    "_isFastLaunch": false,
    "category": "General purpose",
    "gpuNum": 0,
    "hideHardwareSpecs": false,
    "memoryGiB": 32,
    "name": "ml.m5.2xlarge",
    "vcpuNum": 8
   },
   {
    "_defaultOrder": 7,
    "_isFastLaunch": false,
    "category": "General purpose",
    "gpuNum": 0,
    "hideHardwareSpecs": false,
    "memoryGiB": 64,
    "name": "ml.m5.4xlarge",
    "vcpuNum": 16
   },
   {
    "_defaultOrder": 8,
    "_isFastLaunch": false,
    "category": "General purpose",
    "gpuNum": 0,
    "hideHardwareSpecs": false,
    "memoryGiB": 128,
    "name": "ml.m5.8xlarge",
    "vcpuNum": 32
   },
   {
    "_defaultOrder": 9,
    "_isFastLaunch": false,
    "category": "General purpose",
    "gpuNum": 0,
    "hideHardwareSpecs": false,
    "memoryGiB": 192,
    "name": "ml.m5.12xlarge",
    "vcpuNum": 48
   },
   {
    "_defaultOrder": 10,
    "_isFastLaunch": false,
    "category": "General purpose",
    "gpuNum": 0,
    "hideHardwareSpecs": false,
    "memoryGiB": 256,
    "name": "ml.m5.16xlarge",
    "vcpuNum": 64
   },
   {
    "_defaultOrder": 11,
    "_isFastLaunch": false,
    "category": "General purpose",
    "gpuNum": 0,
    "hideHardwareSpecs": false,
    "memoryGiB": 384,
    "name": "ml.m5.24xlarge",
    "vcpuNum": 96
   },
   {
    "_defaultOrder": 12,
    "_isFastLaunch": false,
    "category": "General purpose",
    "gpuNum": 0,
    "hideHardwareSpecs": false,
    "memoryGiB": 8,
    "name": "ml.m5d.large",
    "vcpuNum": 2
   },
   {
    "_defaultOrder": 13,
    "_isFastLaunch": false,
    "category": "General purpose",
    "gpuNum": 0,
    "hideHardwareSpecs": false,
    "memoryGiB": 16,
    "name": "ml.m5d.xlarge",
    "vcpuNum": 4
   },
   {
    "_defaultOrder": 14,
    "_isFastLaunch": false,
    "category": "General purpose",
    "gpuNum": 0,
    "hideHardwareSpecs": false,
    "memoryGiB": 32,
    "name": "ml.m5d.2xlarge",
    "vcpuNum": 8
   },
   {
    "_defaultOrder": 15,
    "_isFastLaunch": false,
    "category": "General purpose",
    "gpuNum": 0,
    "hideHardwareSpecs": false,
    "memoryGiB": 64,
    "name": "ml.m5d.4xlarge",
    "vcpuNum": 16
   },
   {
    "_defaultOrder": 16,
    "_isFastLaunch": false,
    "category": "General purpose",
    "gpuNum": 0,
    "hideHardwareSpecs": false,
    "memoryGiB": 128,
    "name": "ml.m5d.8xlarge",
    "vcpuNum": 32
   },
   {
    "_defaultOrder": 17,
    "_isFastLaunch": false,
    "category": "General purpose",
    "gpuNum": 0,
    "hideHardwareSpecs": false,
    "memoryGiB": 192,
    "name": "ml.m5d.12xlarge",
    "vcpuNum": 48
   },
   {
    "_defaultOrder": 18,
    "_isFastLaunch": false,
    "category": "General purpose",
    "gpuNum": 0,
    "hideHardwareSpecs": false,
    "memoryGiB": 256,
    "name": "ml.m5d.16xlarge",
    "vcpuNum": 64
   },
   {
    "_defaultOrder": 19,
    "_isFastLaunch": false,
    "category": "General purpose",
    "gpuNum": 0,
    "hideHardwareSpecs": false,
    "memoryGiB": 384,
    "name": "ml.m5d.24xlarge",
    "vcpuNum": 96
   },
   {
    "_defaultOrder": 20,
    "_isFastLaunch": false,
    "category": "General purpose",
    "gpuNum": 0,
    "hideHardwareSpecs": true,
    "memoryGiB": 0,
    "name": "ml.geospatial.interactive",
    "supportedImageNames": [
     "sagemaker-geospatial-v1-0"
    ],
    "vcpuNum": 0
   },
   {
    "_defaultOrder": 21,
    "_isFastLaunch": true,
    "category": "Compute optimized",
    "gpuNum": 0,
    "hideHardwareSpecs": false,
    "memoryGiB": 4,
    "name": "ml.c5.large",
    "vcpuNum": 2
   },
   {
    "_defaultOrder": 22,
    "_isFastLaunch": false,
    "category": "Compute optimized",
    "gpuNum": 0,
    "hideHardwareSpecs": false,
    "memoryGiB": 8,
    "name": "ml.c5.xlarge",
    "vcpuNum": 4
   },
   {
    "_defaultOrder": 23,
    "_isFastLaunch": false,
    "category": "Compute optimized",
    "gpuNum": 0,
    "hideHardwareSpecs": false,
    "memoryGiB": 16,
    "name": "ml.c5.2xlarge",
    "vcpuNum": 8
   },
   {
    "_defaultOrder": 24,
    "_isFastLaunch": false,
    "category": "Compute optimized",
    "gpuNum": 0,
    "hideHardwareSpecs": false,
    "memoryGiB": 32,
    "name": "ml.c5.4xlarge",
    "vcpuNum": 16
   },
   {
    "_defaultOrder": 25,
    "_isFastLaunch": false,
    "category": "Compute optimized",
    "gpuNum": 0,
    "hideHardwareSpecs": false,
    "memoryGiB": 72,
    "name": "ml.c5.9xlarge",
    "vcpuNum": 36
   },
   {
    "_defaultOrder": 26,
    "_isFastLaunch": false,
    "category": "Compute optimized",
    "gpuNum": 0,
    "hideHardwareSpecs": false,
    "memoryGiB": 96,
    "name": "ml.c5.12xlarge",
    "vcpuNum": 48
   },
   {
    "_defaultOrder": 27,
    "_isFastLaunch": false,
    "category": "Compute optimized",
    "gpuNum": 0,
    "hideHardwareSpecs": false,
    "memoryGiB": 144,
    "name": "ml.c5.18xlarge",
    "vcpuNum": 72
   },
   {
    "_defaultOrder": 28,
    "_isFastLaunch": false,
    "category": "Compute optimized",
    "gpuNum": 0,
    "hideHardwareSpecs": false,
    "memoryGiB": 192,
    "name": "ml.c5.24xlarge",
    "vcpuNum": 96
   },
   {
    "_defaultOrder": 29,
    "_isFastLaunch": true,
    "category": "Accelerated computing",
    "gpuNum": 1,
    "hideHardwareSpecs": false,
    "memoryGiB": 16,
    "name": "ml.g4dn.xlarge",
    "vcpuNum": 4
   },
   {
    "_defaultOrder": 30,
    "_isFastLaunch": false,
    "category": "Accelerated computing",
    "gpuNum": 1,
    "hideHardwareSpecs": false,
    "memoryGiB": 32,
    "name": "ml.g4dn.2xlarge",
    "vcpuNum": 8
   },
   {
    "_defaultOrder": 31,
    "_isFastLaunch": false,
    "category": "Accelerated computing",
    "gpuNum": 1,
    "hideHardwareSpecs": false,
    "memoryGiB": 64,
    "name": "ml.g4dn.4xlarge",
    "vcpuNum": 16
   },
   {
    "_defaultOrder": 32,
    "_isFastLaunch": false,
    "category": "Accelerated computing",
    "gpuNum": 1,
    "hideHardwareSpecs": false,
    "memoryGiB": 128,
    "name": "ml.g4dn.8xlarge",
    "vcpuNum": 32
   },
   {
    "_defaultOrder": 33,
    "_isFastLaunch": false,
    "category": "Accelerated computing",
    "gpuNum": 4,
    "hideHardwareSpecs": false,
    "memoryGiB": 192,
    "name": "ml.g4dn.12xlarge",
    "vcpuNum": 48
   },
   {
    "_defaultOrder": 34,
    "_isFastLaunch": false,
    "category": "Accelerated computing",
    "gpuNum": 1,
    "hideHardwareSpecs": false,
    "memoryGiB": 256,
    "name": "ml.g4dn.16xlarge",
    "vcpuNum": 64
   },
   {
    "_defaultOrder": 35,
    "_isFastLaunch": false,
    "category": "Accelerated computing",
    "gpuNum": 1,
    "hideHardwareSpecs": false,
    "memoryGiB": 61,
    "name": "ml.p3.2xlarge",
    "vcpuNum": 8
   },
   {
    "_defaultOrder": 36,
    "_isFastLaunch": false,
    "category": "Accelerated computing",
    "gpuNum": 4,
    "hideHardwareSpecs": false,
    "memoryGiB": 244,
    "name": "ml.p3.8xlarge",
    "vcpuNum": 32
   },
   {
    "_defaultOrder": 37,
    "_isFastLaunch": false,
    "category": "Accelerated computing",
    "gpuNum": 8,
    "hideHardwareSpecs": false,
    "memoryGiB": 488,
    "name": "ml.p3.16xlarge",
    "vcpuNum": 64
   },
   {
    "_defaultOrder": 38,
    "_isFastLaunch": false,
    "category": "Accelerated computing",
    "gpuNum": 8,
    "hideHardwareSpecs": false,
    "memoryGiB": 768,
    "name": "ml.p3dn.24xlarge",
    "vcpuNum": 96
   },
   {
    "_defaultOrder": 39,
    "_isFastLaunch": false,
    "category": "Memory Optimized",
    "gpuNum": 0,
    "hideHardwareSpecs": false,
    "memoryGiB": 16,
    "name": "ml.r5.large",
    "vcpuNum": 2
   },
   {
    "_defaultOrder": 40,
    "_isFastLaunch": false,
    "category": "Memory Optimized",
    "gpuNum": 0,
    "hideHardwareSpecs": false,
    "memoryGiB": 32,
    "name": "ml.r5.xlarge",
    "vcpuNum": 4
   },
   {
    "_defaultOrder": 41,
    "_isFastLaunch": false,
    "category": "Memory Optimized",
    "gpuNum": 0,
    "hideHardwareSpecs": false,
    "memoryGiB": 64,
    "name": "ml.r5.2xlarge",
    "vcpuNum": 8
   },
   {
    "_defaultOrder": 42,
    "_isFastLaunch": false,
    "category": "Memory Optimized",
    "gpuNum": 0,
    "hideHardwareSpecs": false,
    "memoryGiB": 128,
    "name": "ml.r5.4xlarge",
    "vcpuNum": 16
   },
   {
    "_defaultOrder": 43,
    "_isFastLaunch": false,
    "category": "Memory Optimized",
    "gpuNum": 0,
    "hideHardwareSpecs": false,
    "memoryGiB": 256,
    "name": "ml.r5.8xlarge",
    "vcpuNum": 32
   },
   {
    "_defaultOrder": 44,
    "_isFastLaunch": false,
    "category": "Memory Optimized",
    "gpuNum": 0,
    "hideHardwareSpecs": false,
    "memoryGiB": 384,
    "name": "ml.r5.12xlarge",
    "vcpuNum": 48
   },
   {
    "_defaultOrder": 45,
    "_isFastLaunch": false,
    "category": "Memory Optimized",
    "gpuNum": 0,
    "hideHardwareSpecs": false,
    "memoryGiB": 512,
    "name": "ml.r5.16xlarge",
    "vcpuNum": 64
   },
   {
    "_defaultOrder": 46,
    "_isFastLaunch": false,
    "category": "Memory Optimized",
    "gpuNum": 0,
    "hideHardwareSpecs": false,
    "memoryGiB": 768,
    "name": "ml.r5.24xlarge",
    "vcpuNum": 96
   },
   {
    "_defaultOrder": 47,
    "_isFastLaunch": false,
    "category": "Accelerated computing",
    "gpuNum": 1,
    "hideHardwareSpecs": false,
    "memoryGiB": 16,
    "name": "ml.g5.xlarge",
    "vcpuNum": 4
   },
   {
    "_defaultOrder": 48,
    "_isFastLaunch": false,
    "category": "Accelerated computing",
    "gpuNum": 1,
    "hideHardwareSpecs": false,
    "memoryGiB": 32,
    "name": "ml.g5.2xlarge",
    "vcpuNum": 8
   },
   {
    "_defaultOrder": 49,
    "_isFastLaunch": false,
    "category": "Accelerated computing",
    "gpuNum": 1,
    "hideHardwareSpecs": false,
    "memoryGiB": 64,
    "name": "ml.g5.4xlarge",
    "vcpuNum": 16
   },
   {
    "_defaultOrder": 50,
    "_isFastLaunch": false,
    "category": "Accelerated computing",
    "gpuNum": 1,
    "hideHardwareSpecs": false,
    "memoryGiB": 128,
    "name": "ml.g5.8xlarge",
    "vcpuNum": 32
   },
   {
    "_defaultOrder": 51,
    "_isFastLaunch": false,
    "category": "Accelerated computing",
    "gpuNum": 1,
    "hideHardwareSpecs": false,
    "memoryGiB": 256,
    "name": "ml.g5.16xlarge",
    "vcpuNum": 64
   },
   {
    "_defaultOrder": 52,
    "_isFastLaunch": false,
    "category": "Accelerated computing",
    "gpuNum": 4,
    "hideHardwareSpecs": false,
    "memoryGiB": 192,
    "name": "ml.g5.12xlarge",
    "vcpuNum": 48
   },
   {
    "_defaultOrder": 53,
    "_isFastLaunch": false,
    "category": "Accelerated computing",
    "gpuNum": 4,
    "hideHardwareSpecs": false,
    "memoryGiB": 384,
    "name": "ml.g5.24xlarge",
    "vcpuNum": 96
   },
   {
    "_defaultOrder": 54,
    "_isFastLaunch": false,
    "category": "Accelerated computing",
    "gpuNum": 8,
    "hideHardwareSpecs": false,
    "memoryGiB": 768,
    "name": "ml.g5.48xlarge",
    "vcpuNum": 192
   },
   {
    "_defaultOrder": 55,
    "_isFastLaunch": false,
    "category": "Accelerated computing",
    "gpuNum": 8,
    "hideHardwareSpecs": false,
    "memoryGiB": 1152,
    "name": "ml.p4d.24xlarge",
    "vcpuNum": 96
   },
   {
    "_defaultOrder": 56,
    "_isFastLaunch": false,
    "category": "Accelerated computing",
    "gpuNum": 8,
    "hideHardwareSpecs": false,
    "memoryGiB": 1152,
    "name": "ml.p4de.24xlarge",
    "vcpuNum": 96
   },
   {
    "_defaultOrder": 57,
    "_isFastLaunch": false,
    "category": "Accelerated computing",
    "gpuNum": 0,
    "hideHardwareSpecs": false,
    "memoryGiB": 32,
    "name": "ml.trn1.2xlarge",
    "vcpuNum": 8
   },
   {
    "_defaultOrder": 58,
    "_isFastLaunch": false,
    "category": "Accelerated computing",
    "gpuNum": 0,
    "hideHardwareSpecs": false,
    "memoryGiB": 512,
    "name": "ml.trn1.32xlarge",
    "vcpuNum": 128
   },
   {
    "_defaultOrder": 59,
    "_isFastLaunch": false,
    "category": "Accelerated computing",
    "gpuNum": 0,
    "hideHardwareSpecs": false,
    "memoryGiB": 512,
    "name": "ml.trn1n.32xlarge",
    "vcpuNum": 128
   }
  ],
  "instance_type": "ml.g4dn.xlarge",
  "kernelspec": {
   "display_name": "Python 3 (Data Science 3.0)",
   "language": "python",
   "name": "python3__SAGEMAKER_INTERNAL__arn:aws:sagemaker:us-east-1:081325390199:image/sagemaker-data-science-310-v1"
  },
  "language_info": {
   "codemirror_mode": {
    "name": "ipython",
    "version": 3
   },
   "file_extension": ".py",
   "mimetype": "text/x-python",
   "name": "python",
   "nbconvert_exporter": "python",
   "pygments_lexer": "ipython3",
   "version": "3.10.6"
  }
 },
 "nbformat": 4,
 "nbformat_minor": 5
}
